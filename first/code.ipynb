{
 "cells": [
  {
   "cell_type": "code",
   "execution_count": 11,
   "metadata": {},
   "outputs": [],
   "source": [
    "import requests\n",
    "from bs4 import BeautifulSoup\n",
    "\n",
    "#Scrape the source code from the specified link:\n",
    "#In this example I'm using my own medium wall\n",
    "data = requests.get(\"https://fabiom91.medium.com\")\n",
    "soup = BeautifulSoup(data.content, 'html.parser')"
   ]
  },
  {
   "cell_type": "code",
   "execution_count": 12,
   "metadata": {},
   "outputs": [],
   "source": [
    "import re\n",
    "\n",
    "keywords= ['privacy','data','analytics','data science','cybersecurity']\n",
    "urls = []\n",
    "for key in keywords:\n",
    "    html = str(soup.find_all('a', attrs = {'href':re.compile(r'^.*\\b%s\\b.*$' % key)}))\n",
    "    href_start = [s.start() for s in re.finditer('href=\"',html)]\n",
    "    for start in href_start:\n",
    "        url = html[start+6:]\n",
    "        url = url[:url.find('\"')]\n",
    "        if not any(c in '#?^%*()=' for c in url):\n",
    "            if 'http' in url:\n",
    "                urls.append(url)\n",
    "            else:\n",
    "                urls.append(\"https://fabiom91.medium.com\" + url)\n",
    "            \n",
    "urls = list(set(urls))"
   ]
  },
  {
   "cell_type": "code",
   "execution_count": 13,
   "metadata": {},
   "outputs": [
    {
     "name": "stderr",
     "output_type": "stream",
     "text": [
      "0it [00:00, ?it/s]\n"
     ]
    }
   ],
   "source": [
    "from tqdm import tqdm\n",
    "previews = []\n",
    "for article in tqdm(urls):\n",
    "    data = requests.get(article)\n",
    "    soup = BeautifulSoup(data.content, 'html5lib')\n",
    "    \n",
    "    title = soup.find('h1').contents[0]\n",
    "    subtitle = soup.find('p').contents[0]\n",
    "    subtitle = BeautifulSoup(str(subtitle), 'lxml').text\n",
    "    for x in soup.find_all('img'):\n",
    "        try:\n",
    "            image = str(x.attrs['srcset']).split(\" \")[0]\n",
    "            break\n",
    "        except:\n",
    "            pass\n",
    "        \n",
    "    article_preview = {\n",
    "        'title': str(title),\n",
    "        'subtitle': str(subtitle),\n",
    "        'image': str(image)\n",
    "    }\n",
    "    previews.append(article_preview)"
   ]
  },
  {
   "cell_type": "code",
   "execution_count": 14,
   "metadata": {},
   "outputs": [
    {
     "name": "stdout",
     "output_type": "stream",
     "text": [
      "[]\n"
     ]
    }
   ],
   "source": [
    "print(previews)"
   ]
  },
  {
   "cell_type": "code",
   "execution_count": 15,
   "metadata": {},
   "outputs": [],
   "source": [
    "template = open('index.html')\n",
    "soup = BeautifulSoup(template.read(), \"html.parser\")"
   ]
  },
  {
   "cell_type": "code",
   "execution_count": 16,
   "metadata": {},
   "outputs": [],
   "source": [
    "article_template = soup.find('div', attrs={'class':'columns'})\n",
    "html_start = str(soup)[:str(soup).find(str(article_template))]\n",
    "html_end = str(soup)[str(soup).find(str(article_template))+len(str(article_template)):]\n",
    "html_start = html_start.replace('\\n','')\n",
    "html_end = html_end.replace('\\n','')"
   ]
  },
  {
   "cell_type": "code",
   "execution_count": 17,
   "metadata": {},
   "outputs": [],
   "source": [
    "newsletter_content = \"\"\n",
    "for i,article in enumerate(previews):\n",
    "    \n",
    "    try:\n",
    "        img = article_template.img\n",
    "        img['src'] = article['image']\n",
    "        article_template.img.replace_with(img)\n",
    "    except:\n",
    "        pass\n",
    "    \n",
    "    title = article_template.h1\n",
    "    title.string = article['title'][:300]\n",
    "    \n",
    "    subtitle = article_template.p\n",
    "    subtitle.string = article['subtitle'][:300] + \"...\"\n",
    "    \n",
    "    link = article_template.a\n",
    "    link['href'] = urls[i]\n",
    "    link.string = urls[i]\n",
    "    article_template.a.replace_with(link)\n",
    "    \n",
    "    \n",
    "    newsletter_content += str(article_template).replace('\\n','')\n",
    "\n",
    "email_content = html_start + newsletter_content + html_end"
   ]
  },
  {
   "cell_type": "code",
   "execution_count": 18,
   "metadata": {},
   "outputs": [
    {
     "name": "stdout",
     "output_type": "stream",
     "text": [
      "<!DOCTYPE html>\n",
      "<html>\n",
      " <head>\n",
      "  <meta charset=\"utf-8\"/>\n",
      "  <meta content=\"width=device-width, initial-scale=1\" name=\"viewport\"/>\n",
      "  <link href=\"https://cdn.jsdelivr.net/npm/bulma@0.9.1/css/bulma.min.css\" rel=\"stylesheet\"/>\n",
      " </head>\n",
      " <body>\n",
      "  <section class=\"section\">\n",
      "  </section>\n",
      " </body>\n",
      "</html>\n"
     ]
    }
   ],
   "source": [
    "print(BeautifulSoup(email_content).prettify())"
   ]
  },
  {
   "cell_type": "code",
   "execution_count": 19,
   "metadata": {},
   "outputs": [],
   "source": [
    "import smtplib, ssl\n",
    "from email.mime.text import MIMEText\n",
    "from email.mime.multipart import MIMEMultipart"
   ]
  },
  {
   "cell_type": "code",
   "execution_count": 21,
   "metadata": {},
   "outputs": [
    {
     "ename": "SMTPAuthenticationError",
     "evalue": "(534, b'5.7.9 Please log in with your web browser and then try again. Learn more at\\n5.7.9  https://support.google.com/mail/?p=WebLoginRequired sc42-20020a1709078a2a00b00722e50dab2csm2105318ejc.109 - gsmtp')",
     "output_type": "error",
     "traceback": [
      "\u001b[0;31m---------------------------------------------------------------------------\u001b[0m",
      "\u001b[0;31mSMTPAuthenticationError\u001b[0m                   Traceback (most recent call last)",
      "\u001b[1;32m/Users/sanskar/work-me/newsletter/first/code.ipynb Cell 10\u001b[0m in \u001b[0;36m<cell line: 30>\u001b[0;34m()\u001b[0m\n\u001b[1;32m     <a href='vscode-notebook-cell:/Users/sanskar/work-me/newsletter/first/code.ipynb#X12sZmlsZQ%3D%3D?line=29'>30</a>\u001b[0m \u001b[39mwith\u001b[39;00m smtplib\u001b[39m.\u001b[39mSMTP_SSL(\u001b[39m\"\u001b[39m\u001b[39msmtp.gmail.com\u001b[39m\u001b[39m\"\u001b[39m, \u001b[39m465\u001b[39m, context\u001b[39m=\u001b[39mcontext) \u001b[39mas\u001b[39;00m server:\n\u001b[1;32m     <a href='vscode-notebook-cell:/Users/sanskar/work-me/newsletter/first/code.ipynb#X12sZmlsZQ%3D%3D?line=30'>31</a>\u001b[0m     server\u001b[39m.\u001b[39mehlo()\n\u001b[0;32m---> <a href='vscode-notebook-cell:/Users/sanskar/work-me/newsletter/first/code.ipynb#X12sZmlsZQ%3D%3D?line=31'>32</a>\u001b[0m     server\u001b[39m.\u001b[39;49mlogin(sender_email, password)\n\u001b[1;32m     <a href='vscode-notebook-cell:/Users/sanskar/work-me/newsletter/first/code.ipynb#X12sZmlsZQ%3D%3D?line=32'>33</a>\u001b[0m     server\u001b[39m.\u001b[39msendmail(\n\u001b[1;32m     <a href='vscode-notebook-cell:/Users/sanskar/work-me/newsletter/first/code.ipynb#X12sZmlsZQ%3D%3D?line=33'>34</a>\u001b[0m         sender_email, receiver_email, message\u001b[39m.\u001b[39mas_string()\n\u001b[1;32m     <a href='vscode-notebook-cell:/Users/sanskar/work-me/newsletter/first/code.ipynb#X12sZmlsZQ%3D%3D?line=34'>35</a>\u001b[0m     )\n",
      "File \u001b[0;32m~/opt/anaconda3/envs/web-scrape/lib/python3.10/smtplib.py:750\u001b[0m, in \u001b[0;36mSMTP.login\u001b[0;34m(self, user, password, initial_response_ok)\u001b[0m\n\u001b[1;32m    747\u001b[0m         last_exception \u001b[39m=\u001b[39m e\n\u001b[1;32m    749\u001b[0m \u001b[39m# We could not login successfully.  Return result of last attempt.\u001b[39;00m\n\u001b[0;32m--> 750\u001b[0m \u001b[39mraise\u001b[39;00m last_exception\n",
      "File \u001b[0;32m~/opt/anaconda3/envs/web-scrape/lib/python3.10/smtplib.py:739\u001b[0m, in \u001b[0;36mSMTP.login\u001b[0;34m(self, user, password, initial_response_ok)\u001b[0m\n\u001b[1;32m    737\u001b[0m method_name \u001b[39m=\u001b[39m \u001b[39m'\u001b[39m\u001b[39mauth_\u001b[39m\u001b[39m'\u001b[39m \u001b[39m+\u001b[39m authmethod\u001b[39m.\u001b[39mlower()\u001b[39m.\u001b[39mreplace(\u001b[39m'\u001b[39m\u001b[39m-\u001b[39m\u001b[39m'\u001b[39m, \u001b[39m'\u001b[39m\u001b[39m_\u001b[39m\u001b[39m'\u001b[39m)\n\u001b[1;32m    738\u001b[0m \u001b[39mtry\u001b[39;00m:\n\u001b[0;32m--> 739\u001b[0m     (code, resp) \u001b[39m=\u001b[39m \u001b[39mself\u001b[39;49m\u001b[39m.\u001b[39;49mauth(\n\u001b[1;32m    740\u001b[0m         authmethod, \u001b[39mgetattr\u001b[39;49m(\u001b[39mself\u001b[39;49m, method_name),\n\u001b[1;32m    741\u001b[0m         initial_response_ok\u001b[39m=\u001b[39;49minitial_response_ok)\n\u001b[1;32m    742\u001b[0m     \u001b[39m# 235 == 'Authentication successful'\u001b[39;00m\n\u001b[1;32m    743\u001b[0m     \u001b[39m# 503 == 'Error: already authenticated'\u001b[39;00m\n\u001b[1;32m    744\u001b[0m     \u001b[39mif\u001b[39;00m code \u001b[39min\u001b[39;00m (\u001b[39m235\u001b[39m, \u001b[39m503\u001b[39m):\n",
      "File \u001b[0;32m~/opt/anaconda3/envs/web-scrape/lib/python3.10/smtplib.py:662\u001b[0m, in \u001b[0;36mSMTP.auth\u001b[0;34m(self, mechanism, authobject, initial_response_ok)\u001b[0m\n\u001b[1;32m    660\u001b[0m \u001b[39mif\u001b[39;00m code \u001b[39min\u001b[39;00m (\u001b[39m235\u001b[39m, \u001b[39m503\u001b[39m):\n\u001b[1;32m    661\u001b[0m     \u001b[39mreturn\u001b[39;00m (code, resp)\n\u001b[0;32m--> 662\u001b[0m \u001b[39mraise\u001b[39;00m SMTPAuthenticationError(code, resp)\n",
      "\u001b[0;31mSMTPAuthenticationError\u001b[0m: (534, b'5.7.9 Please log in with your web browser and then try again. Learn more at\\n5.7.9  https://support.google.com/mail/?p=WebLoginRequired sc42-20020a1709078a2a00b00722e50dab2csm2105318ejc.109 - gsmtp')"
     ]
    }
   ],
   "source": [
    "sender_email = \"go.reply.newsletter@gmail.com\"\n",
    "receiver_email = \"sanskargupta15@gmail.com\"\n",
    "# sender email password\n",
    "# f=open(\"pw.txt\",\"r\")\n",
    "# lines=f.readlines()\n",
    "# password=lines[0]\n",
    "# f.close()\n",
    "password = \"cyqmprvmqutyoxww\"\n",
    "\n",
    "message = MIMEMultipart(\"alternative\")\n",
    "message[\"Subject\"] = \"My awesome newsletter\"\n",
    "message[\"From\"] = sender_email\n",
    "message[\"To\"] = receiver_email\n",
    "\n",
    "# Create the plain-text and HTML version of your message\n",
    "text = \"Hi, I've found some article that you might find interesting: %s\" % previews\n",
    "html = email_content\n",
    "\n",
    "# Turn these into plain/html MIMEText objects\n",
    "part1 = MIMEText(text, \"plain\")\n",
    "part2 = MIMEText(html, \"html\")\n",
    "\n",
    "# Add HTML/plain-text parts to MIMEMultipart message\n",
    "# The email client will try to render the last part first\n",
    "message.attach(part1)\n",
    "message.attach(part2)\n",
    "\n",
    "# Create secure connection with server and send email\n",
    "context = ssl.create_default_context()\n",
    "with smtplib.SMTP_SSL(\"smtp.gmail.com\", 465, context=context) as server:\n",
    "    server.ehlo()\n",
    "    server.login(sender_email, password)\n",
    "    server.sendmail(\n",
    "        sender_email, receiver_email, message.as_string()\n",
    "    )"
   ]
  },
  {
   "cell_type": "markdown",
   "metadata": {},
   "source": []
  }
 ],
 "metadata": {
  "kernelspec": {
   "display_name": "Python 3.10.6 ('web-scrape')",
   "language": "python",
   "name": "python3"
  },
  "language_info": {
   "codemirror_mode": {
    "name": "ipython",
    "version": 3
   },
   "file_extension": ".py",
   "mimetype": "text/x-python",
   "name": "python",
   "nbconvert_exporter": "python",
   "pygments_lexer": "ipython3",
   "version": "3.10.6"
  },
  "orig_nbformat": 4,
  "vscode": {
   "interpreter": {
    "hash": "8a39921bb80ca712b35fc32215e062c1684c894b002f8776398cc3b0b67dbe24"
   }
  }
 },
 "nbformat": 4,
 "nbformat_minor": 2
}
